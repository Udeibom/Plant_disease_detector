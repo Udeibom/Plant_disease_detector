{
  "nbformat": 4,
  "nbformat_minor": 0,
  "metadata": {
    "colab": {
      "provenance": []
    },
    "kernelspec": {
      "name": "python3",
      "display_name": "Python 3"
    },
    "language_info": {
      "name": "python"
    }
  },
  "cells": [
    {
      "cell_type": "code",
      "execution_count": null,
      "metadata": {
        "colab": {
          "base_uri": "https://localhost:8080/"
        },
        "id": "WichGOA6cPkG",
        "outputId": "eb501422-e03b-4986-fea5-cd290367f300"
      },
      "outputs": [
        {
          "output_type": "stream",
          "name": "stdout",
          "text": [
            "Mounted at /content/drive\n",
            "Train samples: 14441\n",
            "Val samples: 4127\n",
            "Test samples: 2070\n",
            "Classes: ['Pepper__bell___Bacterial_spot', 'Pepper__bell___healthy', 'Potato___Early_blight', 'Potato___Late_blight', 'Potato___healthy']\n"
          ]
        }
      ],
      "source": [
        "# --- Load dataset and preprocessing pipeline ---\n",
        "\n",
        "import os\n",
        "import zipfile\n",
        "from google.colab import drive\n",
        "\n",
        "# 1. Mount Google Drive\n",
        "drive.mount('/content/drive')\n",
        "\n",
        "# 2. Path to saved dataset zip\n",
        "zip_path = \"/content/drive/MyDrive/dataset_split.zip\"\n",
        "\n",
        "# 3. Extract dataset into /content\n",
        "with zipfile.ZipFile(zip_path, 'r') as zip_ref:\n",
        "    zip_ref.extractall(\"/content\")\n",
        "\n",
        "# Base path to splits\n",
        "base_split_path = \"/content\"\n",
        "\n",
        "# --- Transforms  ---\n",
        "from torchvision import transforms\n",
        "\n",
        "mean = [0.485, 0.456, 0.406]\n",
        "std  = [0.229, 0.224, 0.225]\n",
        "\n",
        "train_transform = transforms.Compose([\n",
        "    transforms.Resize((224, 224)),\n",
        "    transforms.RandomRotation(25),\n",
        "    transforms.RandomHorizontalFlip(),\n",
        "    transforms.ColorJitter(brightness=0.2, contrast=0.2),\n",
        "    transforms.ToTensor(),\n",
        "    transforms.Normalize(mean, std)\n",
        "])\n",
        "\n",
        "val_transform = transforms.Compose([\n",
        "    transforms.Resize((224, 224)),\n",
        "    transforms.ToTensor(),\n",
        "    transforms.Normalize(mean, std)\n",
        "])\n",
        "\n",
        "test_transform = transforms.Compose([\n",
        "    transforms.Resize((224, 224)),\n",
        "    transforms.ToTensor(),\n",
        "    transforms.Normalize(mean, std)\n",
        "])\n",
        "\n",
        "# --- Datasets\n",
        "from torchvision import datasets\n",
        "\n",
        "train_dir = os.path.join(base_split_path, \"train\")\n",
        "val_dir   = os.path.join(base_split_path, \"val\")\n",
        "test_dir  = os.path.join(base_split_path, \"test\")\n",
        "\n",
        "train_dataset = datasets.ImageFolder(root=train_dir, transform=train_transform)\n",
        "val_dataset   = datasets.ImageFolder(root=val_dir, transform=val_transform)\n",
        "test_dataset  = datasets.ImageFolder(root=test_dir, transform=test_transform)\n",
        "\n",
        "# --- DataLoaders\n",
        "from torch.utils.data import DataLoader\n",
        "\n",
        "batch_size = 32\n",
        "\n",
        "train_loader = DataLoader(train_dataset, batch_size=batch_size, shuffle=True, num_workers=2)\n",
        "val_loader   = DataLoader(val_dataset, batch_size=batch_size, shuffle=False, num_workers=2)\n",
        "test_loader  = DataLoader(test_dataset, batch_size=batch_size, shuffle=False, num_workers=2)\n",
        "\n",
        "# Quick check\n",
        "print(\"Train samples:\", len(train_dataset))\n",
        "print(\"Val samples:\", len(val_dataset))\n",
        "print(\"Test samples:\", len(test_dataset))\n",
        "print(\"Classes:\", train_dataset.classes[:5])"
      ]
    },
    {
      "cell_type": "code",
      "source": [
        "import torch\n",
        "import torch.nn as nn\n",
        "import torch.nn.functional as F\n",
        "\n",
        "# Define CNN model\n",
        "class BaselineCNN(nn.Module):\n",
        "    def __init__(self, num_classes):\n",
        "        super(BaselineCNN, self).__init__()\n",
        "\n",
        "        # Convolutional layers\n",
        "        self.conv1 = nn.Conv2d(in_channels=3, out_channels=32, kernel_size=3, padding=1)\n",
        "        self.pool  = nn.MaxPool2d(kernel_size=2, stride=2)\n",
        "\n",
        "        self.conv2 = nn.Conv2d(32, 64, kernel_size=3, padding=1)\n",
        "        self.conv3 = nn.Conv2d(64, 128, kernel_size=3, padding=1)\n",
        "\n",
        "        # Fully connected layers\n",
        "        self.fc1 = nn.Linear(128 * 28 * 28, 256)   # after pooling down to 28×28\n",
        "        self.fc2 = nn.Linear(256, num_classes)\n",
        "\n",
        "    def forward(self, x):\n",
        "        # Conv layers with ReLU + pooling\n",
        "        x = self.pool(F.relu(self.conv1(x)))\n",
        "        x = self.pool(F.relu(self.conv2(x)))\n",
        "        x = self.pool(F.relu(self.conv3(x)))\n",
        "\n",
        "        # Flatten\n",
        "        x = x.view(x.size(0), -1)\n",
        "\n",
        "        # Fully connected\n",
        "        x = F.relu(self.fc1(x))\n",
        "        x = self.fc2(x)\n",
        "        return x\n",
        "\n",
        "# Instantiate model\n",
        "num_classes = len(train_dataset.classes)\n",
        "model = BaselineCNN(num_classes)\n",
        "\n",
        "# Move to GPU if available\n",
        "device = torch.device(\"cuda\" if torch.cuda.is_available() else \"cpu\")\n",
        "model = model.to(device)\n",
        "\n",
        "print(model)"
      ],
      "metadata": {
        "colab": {
          "base_uri": "https://localhost:8080/"
        },
        "id": "MQkIvWukcqLk",
        "outputId": "36b16151-bc0e-41c5-9fb1-1d7f34a4370c"
      },
      "execution_count": null,
      "outputs": [
        {
          "output_type": "stream",
          "name": "stdout",
          "text": [
            "BaselineCNN(\n",
            "  (conv1): Conv2d(3, 32, kernel_size=(3, 3), stride=(1, 1), padding=(1, 1))\n",
            "  (pool): MaxPool2d(kernel_size=2, stride=2, padding=0, dilation=1, ceil_mode=False)\n",
            "  (conv2): Conv2d(32, 64, kernel_size=(3, 3), stride=(1, 1), padding=(1, 1))\n",
            "  (conv3): Conv2d(64, 128, kernel_size=(3, 3), stride=(1, 1), padding=(1, 1))\n",
            "  (fc1): Linear(in_features=100352, out_features=256, bias=True)\n",
            "  (fc2): Linear(in_features=256, out_features=15, bias=True)\n",
            ")\n"
          ]
        }
      ]
    },
    {
      "cell_type": "code",
      "source": [
        "import torch.optim as optim\n",
        "from torch.optim import lr_scheduler\n",
        "\n",
        "# Loss function: CrossEntropy\n",
        "criterion = nn.CrossEntropyLoss()\n",
        "\n",
        "# Optimizer: Adam\n",
        "optimizer = optim.Adam(model.parameters(), lr=0.001)\n",
        "\n",
        "# Optional: Learning rate scheduler (to reduce LR if val loss plateaus)\n",
        "scheduler = lr_scheduler.ReduceLROnPlateau(\n",
        "    optimizer, mode='min', factor=0.1, patience=3\n",
        ")\n",
        "\n",
        "print(\"✅ Loss, optimizer, and scheduler are ready.\")"
      ],
      "metadata": {
        "colab": {
          "base_uri": "https://localhost:8080/"
        },
        "id": "e92Coc48jCgS",
        "outputId": "133ceaca-9a0e-49c4-d5bc-e6b6099337f5"
      },
      "execution_count": null,
      "outputs": [
        {
          "output_type": "stream",
          "name": "stdout",
          "text": [
            "✅ Loss, optimizer, and scheduler are ready.\n"
          ]
        }
      ]
    },
    {
      "cell_type": "code",
      "source": [
        "import torch\n",
        "\n",
        "# Device setup\n",
        "device = torch.device(\"cuda\" if torch.cuda.is_available() else \"cpu\")\n",
        "model = model.to(device)\n",
        "\n",
        "# Training function\n",
        "def train_model(model, criterion, optimizer, scheduler, num_epochs=5):\n",
        "    history = {\"train_loss\": [], \"val_loss\": [], \"train_acc\": [], \"val_acc\": []}\n",
        "\n",
        "    for epoch in range(num_epochs):\n",
        "        print(f\"\\nEpoch {epoch+1}/{num_epochs}\")\n",
        "        print(\"-\" * 30)\n",
        "\n",
        "        # Each epoch has training + validation phase\n",
        "        for phase in [\"train\", \"val\"]:\n",
        "            if phase == \"train\":\n",
        "                model.train()  # training mode\n",
        "                dataloader = train_loader\n",
        "            else:\n",
        "                model.eval()   # evaluation mode\n",
        "                dataloader = val_loader\n",
        "\n",
        "            running_loss = 0.0\n",
        "            running_corrects = 0\n",
        "\n",
        "            # Loop over batches\n",
        "            for inputs, labels in dataloader:\n",
        "                inputs, labels = inputs.to(device), labels.to(device)\n",
        "\n",
        "                # Zero the gradients\n",
        "                optimizer.zero_grad()\n",
        "\n",
        "                # Forward\n",
        "                with torch.set_grad_enabled(phase == \"train\"):\n",
        "                    outputs = model(inputs)\n",
        "                    _, preds = torch.max(outputs, 1)\n",
        "                    loss = criterion(outputs, labels)\n",
        "\n",
        "                    # Backward + optimize only if training\n",
        "                    if phase == \"train\":\n",
        "                        loss.backward()\n",
        "                        optimizer.step()\n",
        "\n",
        "                # Track metrics\n",
        "                running_loss += loss.item() * inputs.size(0)\n",
        "                running_corrects += torch.sum(preds == labels.data)\n",
        "\n",
        "            # Epoch stats\n",
        "            epoch_loss = running_loss / len(dataloader.dataset)\n",
        "            epoch_acc = running_corrects.double() / len(dataloader.dataset)\n",
        "\n",
        "            print(f\"{phase} Loss: {epoch_loss:.4f} Acc: {epoch_acc:.4f}\")\n",
        "\n",
        "            # Save history\n",
        "            if phase == \"train\":\n",
        "                history[\"train_loss\"].append(epoch_loss)\n",
        "                history[\"train_acc\"].append(epoch_acc.item())\n",
        "            else:\n",
        "                history[\"val_loss\"].append(epoch_loss)\n",
        "                history[\"val_acc\"].append(epoch_acc.item())\n",
        "                # Step scheduler with validation loss\n",
        "                scheduler.step(epoch_loss)\n",
        "\n",
        "    return history"
      ],
      "metadata": {
        "id": "5A8h2PoGkIHX"
      },
      "execution_count": null,
      "outputs": []
    },
    {
      "cell_type": "code",
      "source": [
        "history = train_model(model, criterion, optimizer, scheduler, num_epochs=5)"
      ],
      "metadata": {
        "colab": {
          "base_uri": "https://localhost:8080/"
        },
        "id": "AUCwS8PQsHyE",
        "outputId": "394fe94d-8c19-4122-ccaa-d5d90df11d19"
      },
      "execution_count": null,
      "outputs": [
        {
          "output_type": "stream",
          "name": "stdout",
          "text": [
            "\n",
            "Epoch 1/5\n",
            "------------------------------\n",
            "train Loss: 1.1092 Acc: 0.6413\n",
            "val Loss: 0.5664 Acc: 0.8117\n",
            "\n",
            "Epoch 2/5\n",
            "------------------------------\n",
            "train Loss: 0.5426 Acc: 0.8204\n",
            "val Loss: 0.4364 Acc: 0.8556\n",
            "\n",
            "Epoch 3/5\n",
            "------------------------------\n",
            "train Loss: 0.4073 Acc: 0.8625\n",
            "val Loss: 0.3776 Acc: 0.8793\n",
            "\n",
            "Epoch 4/5\n",
            "------------------------------\n",
            "train Loss: 0.3168 Acc: 0.8929\n",
            "val Loss: 0.2615 Acc: 0.9142\n",
            "\n",
            "Epoch 5/5\n",
            "------------------------------\n",
            "train Loss: 0.2534 Acc: 0.9161\n",
            "val Loss: 0.2624 Acc: 0.9176\n"
          ]
        }
      ]
    },
    {
      "cell_type": "code",
      "source": [
        "import matplotlib.pyplot as plt\n",
        "\n",
        "def plot_history(history):\n",
        "    # Loss curves\n",
        "    plt.figure(figsize=(12, 5))\n",
        "\n",
        "    plt.subplot(1, 2, 1)\n",
        "    plt.plot(history[\"train_loss\"], label=\"Train Loss\")\n",
        "    plt.plot(history[\"val_loss\"], label=\"Val Loss\")\n",
        "    plt.xlabel(\"Epoch\")\n",
        "    plt.ylabel(\"Loss\")\n",
        "    plt.title(\"Loss Curve\")\n",
        "    plt.legend()\n",
        "\n",
        "    # Accuracy curves\n",
        "    plt.subplot(1, 2, 2)\n",
        "    plt.plot(history[\"train_acc\"], label=\"Train Acc\")\n",
        "    plt.plot(history[\"val_acc\"], label=\"Val Acc\")\n",
        "    plt.xlabel(\"Epoch\")\n",
        "    plt.ylabel(\"Accuracy\")\n",
        "    plt.title(\"Accuracy Curve\")\n",
        "    plt.legend()\n",
        "\n",
        "    plt.show()\n",
        "\n",
        "# Call after training\n",
        "plot_history(history)"
      ],
      "metadata": {
        "colab": {
          "base_uri": "https://localhost:8080/",
          "height": 487
        },
        "id": "F1WTkaOpscJa",
        "outputId": "bf480615-689b-4966-c56c-0b164abb1fc3"
      },
      "execution_count": null,
      "outputs": [
        {
          "output_type": "display_data",
          "data": {
            "text/plain": [
              "<Figure size 1200x500 with 2 Axes>"
            ],
            "image/png": "[encoded data removed]"
          },
          "metadata": {}
        }
      ]
    },
    {
      "cell_type": "code",
      "source": [],
      "metadata": {
        "id": "7yiUABs4cpsP"
      },
      "execution_count": null,
      "outputs": []
    }
  ]
}